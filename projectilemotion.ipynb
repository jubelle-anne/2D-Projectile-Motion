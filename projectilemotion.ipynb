{
 "cells": [
  {
   "cell_type": "code",
   "execution_count": 1,
   "metadata": {},
   "outputs": [
    {
     "name": "stdout",
     "output_type": "stream",
     "text": [
      "The maximum height of the projectile is 0.7596m.\n",
      "The distance to impact is 0.9889m.\n",
      "The time of flight is 0.9339s.\n",
      "The velocity at impact is 1.488m/s.\n"
     ]
    },
    {
     "data": {
      "image/png": "[encoded data removed]",
      "text/plain": [
       "<Figure size 432x288 with 1 Axes>"
      ]
     },
     "metadata": {
      "needs_background": "light"
     },
     "output_type": "display_data"
    }
   ],
   "source": [
    "##################################################################\n",
    "# Title: Projectile Motion in 2D\n",
    "# Author: Jubelle Paa\n",
    "# Description: This script can be used to numerically integrate\n",
    "# the equation of motion of a projectile with atmospheric drag.\n",
    "# It will use this answer to determine the projectile's\n",
    "# distance to impact, max height, time of flight, and impact\n",
    "# velocity. It will also plot its x-position vs its y-position,\n",
    "# with a comparison to the analytical solution.\n",
    "# Parameters/initial conditions can be changed.\n",
    "##################################################################\n",
    "\n",
    "import numpy as np\n",
    "import matplotlib.pyplot as plt\n",
    "from scipy import integrate\n",
    "\n",
    "# define parameters and initial conditions\n",
    "c = 0.65  # atmospheric friction in kg/s\n",
    "g = 9.81\n",
    "m = 0.1\n",
    "v0 = 10\n",
    "theta = 50\n",
    "tr = theta * (np.pi/180)  # angle in radians\n",
    "t0 = 0.00  # initial time in seconds\n",
    "\n",
    "\n",
    "def ddt(tF, xydv):\n",
    "    \"\"\"\n",
    "    Returns an array of calculated dx/dt,\n",
    "    dv_x/dt, dy/dt, and dv_y/dt values.\n",
    "    Parameters:\n",
    "        tF: current time t.\n",
    "        xydv: list of function values\n",
    "              at current time.\n",
    "    \"\"\"\n",
    "    x = xydv[0]\n",
    "    vx = xydv[1]\n",
    "    y = xydv[2]\n",
    "    vy = xydv[3]\n",
    "    return np.array([vx, -c*vx/m, vy, -g-c*vy/m])\n",
    "\n",
    "\n",
    "tmax = (2*v0*np.sin(tr)) / g  # approximate final time (without drag)\n",
    "steps = 1000  # number of time steps\n",
    "\n",
    "# array of time steps to evaluate the solution\n",
    "tAF = np.linspace(t0, tmax, steps+1)\n",
    "\n",
    "# set initial conditions:\n",
    "x0 = 0\n",
    "y0 = 0\n",
    "vx0 = v0*np.cos(tr)\n",
    "vy0 = v0*np.sin(tr)\n",
    "inconds = [x0, vx0, y0, vy0]  # creates a list of initial conditions\n",
    "\n",
    "# solves the differential equation at times tAF:\n",
    "sol = integrate.solve_ivp(ddt, (tAF[0], tAF[-1]), inconds, t_eval=tAF)\n",
    "\n",
    "yM = sol['y']  # extract y values\n",
    "tA = sol['t']  # extract time points\n",
    "\n",
    "# use the results of sol to determine values:\n",
    "\n",
    "mh = yM[2][np.argmax(yM[2])]  # determines the greatest y value\n",
    "print('The maximum height of the projectile is {0:.4}m.'.format(mh))\n",
    "\n",
    "d = yM[0][np.argmax(yM[0])]  # determines the greatest x value\n",
    "print('The distance to impact is {0:.4}m.'.format(d))\n",
    "\n",
    "# find where the y trajectory of the projectile is negative:\n",
    "i = np.where(yM[2] < 0)\n",
    "# uses earliest index from above to extract the corresponding time value\n",
    "tof = tA[i[0][0]]\n",
    "print('The time of flight is {0:.4}s.'.format(tof))\n",
    "\n",
    "vi = np.sqrt(yM[1][i[0][0]]**2 + yM[3][i[0][0]]**2)\n",
    "# uses earliest index of i again to determine\n",
    "# final x velocity and y velocity\n",
    "print('The velocity at impact is {0:.4}m/s.'.format(vi))\n",
    "\n",
    "tmax = tof  # redefines max time to calculated time of flight\n",
    "\n",
    "# redetermine numerical points of x and y with less steps\n",
    "steps2 = 19\n",
    "tAFn = np.linspace(t0, tmax, steps2 + 1)\n",
    "sol = integrate.solve_ivp(ddt, (tAFn[0], tAFn[-1]), inconds, t_eval=tAFn)\n",
    "yM = sol['y']\n",
    "tA = sol['t']\n",
    "\n",
    "# determine analytical points of x and y\n",
    "tAFa = np.linspace(t0, tmax, steps+1)\n",
    "vt = m*g/c  # terminal velocity in m/s\n",
    "xa = ((v0*vt)/g)*(1 - np.exp(-g*tAFa/vt))*np.cos(tr)\n",
    "ya = (vt/g)*(vt+v0*np.sin(tr))*(1-np.exp(-g*tAFa/vt))-vt*tAFa\n",
    "\n",
    "# plot the numerical and analytical trajectory of projectile\n",
    "plt.plot(yM[0, :], yM[2, :], 'o', label='numerical')\n",
    "plt.plot(xa, ya, 'r', label='analytical')\n",
    "plt.title('Trajectory of a projectile')\n",
    "plt.xlabel('x-position [m]')\n",
    "plt.ylabel('y-position [m]')\n",
    "plt.legend()\n",
    "plt.show()"
   ]
  }
 ],
 "metadata": {
  "kernelspec": {
   "display_name": "Python 3",
   "language": "python",
   "name": "python3"
  },
  "language_info": {
   "codemirror_mode": {
    "name": "ipython",
    "version": 3
   },
   "file_extension": ".py",
   "mimetype": "text/x-python",
   "name": "python",
   "nbconvert_exporter": "python",
   "pygments_lexer": "ipython3",
   "version": "3.8.3"
  }
 },
 "nbformat": 4,
 "nbformat_minor": 4
}
